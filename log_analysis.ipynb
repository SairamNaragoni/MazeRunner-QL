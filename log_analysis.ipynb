{
 "cells": [
  {
   "cell_type": "code",
   "execution_count": null,
   "id": "3828d791",
   "metadata": {},
   "outputs": [],
   "source": [
    "import pandas as pd\n",
    "import ast\n",
    "import numpy as np\n",
    "import plotly.graph_objects as go\n",
    "import plotly.express as px\n",
    "import plotly.figure_factory as ff\n",
    "from plotly.subplots import make_subplots"
   ]
  },
  {
   "cell_type": "code",
   "execution_count": null,
   "id": "d776b3c0",
   "metadata": {},
   "outputs": [],
   "source": [
    "def load_file(fname):\n",
    "    data = []\n",
    "    try:\n",
    "        with open(fname, 'r') as f:\n",
    "            for line in f:\n",
    "                sim_parts = line.split('\\t')[0].split(\";\")\n",
    "                data.append(\";\".join(sim_parts))\n",
    "        return data\n",
    "    except Exception as e:\n",
    "        print(\"Exception Occurred while Parsing !!\", e)\n",
    "\n",
    "\n",
    "def convert_to_pandas(data):\n",
    "    \"\"\"\n",
    "        episode=%f,steps=%f,reward=%f,action=%s,state=%s,done=%s,qvalue=%s\n",
    "    \"\"\"\n",
    "    df_list = list()\n",
    "\n",
    "    for d in data[0:]:\n",
    "        parts = d.rstrip().split(\";\")\n",
    "        episode = float(parts[0])\n",
    "        steps = float(parts[1])\n",
    "        reward = float(parts[2])\n",
    "        action = ast.literal_eval(parts[3])\n",
    "        state = ast.literal_eval(parts[4])\n",
    "        done = 0 if 'False' in parts[5] else 1\n",
    "        qvalue = float(parts[6])\n",
    "        x = state[0]\n",
    "        y = state[1]\n",
    "        df_list.append([episode, steps, x, y, action, state, reward, done, qvalue])\n",
    "\n",
    "    header = ['episode', 'steps', 'x', 'y', 'action', 'state', 'reward', 'done', 'qvalue']\n",
    "\n",
    "    return pd.DataFrame(df_list, columns=header)\n",
    "\n",
    "def simulation_agg(df):\n",
    "    grouped = df.groupby(['episode'])\n",
    "    by_steps = grouped['steps'].agg(np.max).reset_index()\n",
    "    result = by_steps\n",
    "\n",
    "    by_reward = grouped['reward'].agg(np.sum).reset_index()\n",
    "    result = result.merge(by_reward, on=['episode'])\n",
    "\n",
    "    result['quintile'] = pd.cut(result['episode'], 5, labels=['1st', '2nd', '3rd', '4th', '5th'])\n",
    "\n",
    "    return result\n",
    "\n",
    "def get_state_index(state):\n",
    "    return state[0]*5 + state[1]"
   ]
  },
  {
   "cell_type": "code",
   "execution_count": null,
   "id": "cf59c49b",
   "metadata": {},
   "outputs": [],
   "source": [
    "LOG_FILE = 'logs/training_logs.log'\n",
    "data = load_file(LOG_FILE)\n",
    "df = convert_to_pandas(data)"
   ]
  },
  {
   "cell_type": "code",
   "execution_count": null,
   "id": "dcafdb4d",
   "metadata": {},
   "outputs": [],
   "source": [
    "simulation_agg = simulation_agg(df)\n",
    "simulation_agg"
   ]
  },
  {
   "cell_type": "code",
   "execution_count": null,
   "id": "607aa192",
   "metadata": {},
   "outputs": [],
   "source": [
    "# df[df['episode']==df[df['done']==1]['episode']]"
   ]
  },
  {
   "cell_type": "code",
   "execution_count": null,
   "id": "75389740",
   "metadata": {},
   "outputs": [],
   "source": [
    "def plot_progress_reward_distribution(df):\n",
    "    grouped = df.copy().groupby(['episode'])\n",
    "    by_reward = grouped['reward'].agg(np.mean).reset_index()\n",
    "    result = by_reward\n",
    "    fig = go.Figure()\n",
    "    fig.add_trace(go.Scatter(x=result['episode'], y=result['reward'],\n",
    "                             mode='lines',name='reward',line=dict({'shape': 'spline', 'smoothing': 1.3})))\n",
    "    fig.update_layout(height = 650,width=950,title = \"Reward Distribution\",)\n",
    "    fig.show()"
   ]
  },
  {
   "cell_type": "code",
   "execution_count": null,
   "id": "d9252ba4",
   "metadata": {},
   "outputs": [],
   "source": [
    "plot_progress_reward_distribution(simulation_agg)"
   ]
  },
  {
   "cell_type": "code",
   "execution_count": null,
   "id": "097c8df7",
   "metadata": {},
   "outputs": [],
   "source": [
    "q_table_agg = np.zeros([df.size, 49, 4])\n",
    "q_table = np.zeros([49, 4])\n",
    "for index, row in df.iterrows():\n",
    "    state_index = get_state_index(row['state'])\n",
    "    action_index = row['action'][1]\n",
    "    q_table[state_index, action_index] = row['qvalue']\n",
    "    q_table_agg[index] = q_table"
   ]
  },
  {
   "cell_type": "code",
   "execution_count": null,
   "id": "c405ca5e",
   "metadata": {},
   "outputs": [],
   "source": [
    "import numpy as np\n",
    "import plotly.graph_objs as go\n",
    "\n",
    "M = q_table_agg\n",
    "\n",
    "fig = go.Figure(\n",
    "    data=[go.Heatmap(z=M[0])],\n",
    "    layout=go.Layout(\n",
    "        title=\"Frame 0\",\n",
    "        updatemenus=[dict(\n",
    "            type=\"buttons\",\n",
    "            buttons=[dict(label=\"Play\",\n",
    "                          method=\"animate\",\n",
    "                          args=[None]),\n",
    "                     dict(label=\"Pause\",\n",
    "                          method=\"animate\",\n",
    "                          args=[None,\n",
    "                               {\"frame\": {\"duration\": 0, \"redraw\": False},\n",
    "                                \"mode\": \"immediate\",\n",
    "                                \"transition\": {\"duration\": 0}}])\n",
    "                    ]),\n",
    "                    ]\n",
    "    ),\n",
    "    frames=[go.Frame(data=[go.Heatmap(z=M[i])],\n",
    "                     layout=go.Layout(title_text=f\"Frame {i}\")) \n",
    "            for i in range(1, 100)]\n",
    ")\n",
    "\n",
    "fig.show()"
   ]
  },
  {
   "cell_type": "code",
   "execution_count": null,
   "id": "58087c35",
   "metadata": {},
   "outputs": [],
   "source": []
  }
 ],
 "metadata": {
  "kernelspec": {
   "display_name": "Python 3 (ipykernel)",
   "language": "python",
   "name": "python3"
  },
  "language_info": {
   "codemirror_mode": {
    "name": "ipython",
    "version": 3
   },
   "file_extension": ".py",
   "mimetype": "text/x-python",
   "name": "python",
   "nbconvert_exporter": "python",
   "pygments_lexer": "ipython3",
   "version": "3.8.8"
  }
 },
 "nbformat": 4,
 "nbformat_minor": 5
}
